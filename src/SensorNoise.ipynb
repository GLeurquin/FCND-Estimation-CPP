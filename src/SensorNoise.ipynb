{
 "cells": [
  {
   "cell_type": "code",
   "execution_count": 15,
   "id": "mediterranean-longer",
   "metadata": {},
   "outputs": [],
   "source": [
    "import pandas as pd\n",
    "import numpy as np"
   ]
  },
  {
   "cell_type": "code",
   "execution_count": 58,
   "id": "anticipated-display",
   "metadata": {},
   "outputs": [],
   "source": [
    "def get_std(df, feature):\n",
    "    v = df[feature][:-1]\n",
    "    dt = df[\"time\"].diff()[1:]\n",
    "    total_time = df[\"time\"].max() - df[\"time\"].min()\n",
    "    mean = np.dot(v, dt) / total_time\n",
    "    std = np.sqrt(np.dot((v-mean)**2, dt)/total_time)\n",
    "    print(\"The standard deviation for std is {:.3f}, mean is {:.3f}\".format(std, mean))\n",
    "    print(\"{:.2f}% of the values are between mu-sigma and mu+sigma\".format(\n",
    "        len(df[(mean-std < df[feature]) & (df[feature] < mean+std)])/len(df) * 100\n",
    "    ))\n",
    "    \n",
    "    return mean, std\n"
   ]
  },
  {
   "cell_type": "markdown",
   "id": "natural-auditor",
   "metadata": {},
   "source": [
    "### Find the standard deviation of the the GPS X signal"
   ]
  },
  {
   "cell_type": "code",
   "execution_count": 59,
   "id": "material-trailer",
   "metadata": {},
   "outputs": [
    {
     "name": "stdout",
     "output_type": "stream",
     "text": [
      "The standard deviation for std is 0.711, mean is -0.025\n",
      "69.79% of the values are between mu-sigma and mu+sigma\n"
     ]
    },
    {
     "data": {
      "text/html": [
       "<div>\n",
       "<style scoped>\n",
       "    .dataframe tbody tr th:only-of-type {\n",
       "        vertical-align: middle;\n",
       "    }\n",
       "\n",
       "    .dataframe tbody tr th {\n",
       "        vertical-align: top;\n",
       "    }\n",
       "\n",
       "    .dataframe thead th {\n",
       "        text-align: right;\n",
       "    }\n",
       "</style>\n",
       "<table border=\"1\" class=\"dataframe\">\n",
       "  <thead>\n",
       "    <tr style=\"text-align: right;\">\n",
       "      <th></th>\n",
       "      <th>time</th>\n",
       "      <th>Quad.GPS.X</th>\n",
       "    </tr>\n",
       "  </thead>\n",
       "  <tbody>\n",
       "    <tr>\n",
       "      <th>0</th>\n",
       "      <td>0.105000</td>\n",
       "      <td>-0.372319</td>\n",
       "    </tr>\n",
       "    <tr>\n",
       "      <th>1</th>\n",
       "      <td>0.205000</td>\n",
       "      <td>0.639987</td>\n",
       "    </tr>\n",
       "    <tr>\n",
       "      <th>2</th>\n",
       "      <td>0.305000</td>\n",
       "      <td>-0.736634</td>\n",
       "    </tr>\n",
       "    <tr>\n",
       "      <th>3</th>\n",
       "      <td>0.404998</td>\n",
       "      <td>0.869336</td>\n",
       "    </tr>\n",
       "    <tr>\n",
       "      <th>4</th>\n",
       "      <td>0.504997</td>\n",
       "      <td>0.180194</td>\n",
       "    </tr>\n",
       "    <tr>\n",
       "      <th>...</th>\n",
       "      <td>...</td>\n",
       "      <td>...</td>\n",
       "    </tr>\n",
       "    <tr>\n",
       "      <th>91</th>\n",
       "      <td>9.205090</td>\n",
       "      <td>1.185306</td>\n",
       "    </tr>\n",
       "    <tr>\n",
       "      <th>92</th>\n",
       "      <td>9.305130</td>\n",
       "      <td>-0.568132</td>\n",
       "    </tr>\n",
       "    <tr>\n",
       "      <th>93</th>\n",
       "      <td>9.405170</td>\n",
       "      <td>-0.265926</td>\n",
       "    </tr>\n",
       "    <tr>\n",
       "      <th>94</th>\n",
       "      <td>9.505211</td>\n",
       "      <td>-0.171602</td>\n",
       "    </tr>\n",
       "    <tr>\n",
       "      <th>95</th>\n",
       "      <td>9.605251</td>\n",
       "      <td>0.700781</td>\n",
       "    </tr>\n",
       "  </tbody>\n",
       "</table>\n",
       "<p>96 rows × 2 columns</p>\n",
       "</div>"
      ],
      "text/plain": [
       "        time   Quad.GPS.X\n",
       "0   0.105000    -0.372319\n",
       "1   0.205000     0.639987\n",
       "2   0.305000    -0.736634\n",
       "3   0.404998     0.869336\n",
       "4   0.504997     0.180194\n",
       "..       ...          ...\n",
       "91  9.205090     1.185306\n",
       "92  9.305130    -0.568132\n",
       "93  9.405170    -0.265926\n",
       "94  9.505211    -0.171602\n",
       "95  9.605251     0.700781\n",
       "\n",
       "[96 rows x 2 columns]"
      ]
     },
     "execution_count": 59,
     "metadata": {},
     "output_type": "execute_result"
    }
   ],
   "source": [
    "df = pd.read_csv('./config/log/Graph1.txt')\n",
    "feature = \" Quad.GPS.X\"\n",
    "mean, std = get_std(df, feature)\n",
    "df"
   ]
  },
  {
   "cell_type": "markdown",
   "id": "incredible-california",
   "metadata": {},
   "source": [
    "### Find the standard deviation of the IMU Accelerometer X signal."
   ]
  },
  {
   "cell_type": "code",
   "execution_count": 60,
   "id": "ancient-patch",
   "metadata": {},
   "outputs": [
    {
     "name": "stdout",
     "output_type": "stream",
     "text": [
      "The standard deviation for std is 0.490, mean is -0.018\n",
      "67.29% of the values are between mu-sigma and mu+sigma\n"
     ]
    },
    {
     "data": {
      "text/html": [
       "<div>\n",
       "<style scoped>\n",
       "    .dataframe tbody tr th:only-of-type {\n",
       "        vertical-align: middle;\n",
       "    }\n",
       "\n",
       "    .dataframe tbody tr th {\n",
       "        vertical-align: top;\n",
       "    }\n",
       "\n",
       "    .dataframe thead th {\n",
       "        text-align: right;\n",
       "    }\n",
       "</style>\n",
       "<table border=\"1\" class=\"dataframe\">\n",
       "  <thead>\n",
       "    <tr style=\"text-align: right;\">\n",
       "      <th></th>\n",
       "      <th>time</th>\n",
       "      <th>Quad.IMU.AX</th>\n",
       "    </tr>\n",
       "  </thead>\n",
       "  <tbody>\n",
       "    <tr>\n",
       "      <th>0</th>\n",
       "      <td>0.005000</td>\n",
       "      <td>0.552092</td>\n",
       "    </tr>\n",
       "    <tr>\n",
       "      <th>1</th>\n",
       "      <td>0.010000</td>\n",
       "      <td>0.073913</td>\n",
       "    </tr>\n",
       "    <tr>\n",
       "      <th>2</th>\n",
       "      <td>0.015000</td>\n",
       "      <td>0.523375</td>\n",
       "    </tr>\n",
       "    <tr>\n",
       "      <th>3</th>\n",
       "      <td>0.020000</td>\n",
       "      <td>-0.426419</td>\n",
       "    </tr>\n",
       "    <tr>\n",
       "      <th>4</th>\n",
       "      <td>0.025000</td>\n",
       "      <td>0.916424</td>\n",
       "    </tr>\n",
       "    <tr>\n",
       "      <th>...</th>\n",
       "      <td>...</td>\n",
       "      <td>...</td>\n",
       "    </tr>\n",
       "    <tr>\n",
       "      <th>1918</th>\n",
       "      <td>9.595247</td>\n",
       "      <td>-0.445150</td>\n",
       "    </tr>\n",
       "    <tr>\n",
       "      <th>1919</th>\n",
       "      <td>9.600249</td>\n",
       "      <td>0.162022</td>\n",
       "    </tr>\n",
       "    <tr>\n",
       "      <th>1920</th>\n",
       "      <td>9.605251</td>\n",
       "      <td>0.601284</td>\n",
       "    </tr>\n",
       "    <tr>\n",
       "      <th>1921</th>\n",
       "      <td>9.610253</td>\n",
       "      <td>-0.059498</td>\n",
       "    </tr>\n",
       "    <tr>\n",
       "      <th>1922</th>\n",
       "      <td>9.615255</td>\n",
       "      <td>0.508944</td>\n",
       "    </tr>\n",
       "  </tbody>\n",
       "</table>\n",
       "<p>1923 rows × 2 columns</p>\n",
       "</div>"
      ],
      "text/plain": [
       "          time   Quad.IMU.AX\n",
       "0     0.005000      0.552092\n",
       "1     0.010000      0.073913\n",
       "2     0.015000      0.523375\n",
       "3     0.020000     -0.426419\n",
       "4     0.025000      0.916424\n",
       "...        ...           ...\n",
       "1918  9.595247     -0.445150\n",
       "1919  9.600249      0.162022\n",
       "1920  9.605251      0.601284\n",
       "1921  9.610253     -0.059498\n",
       "1922  9.615255      0.508944\n",
       "\n",
       "[1923 rows x 2 columns]"
      ]
     },
     "execution_count": 60,
     "metadata": {},
     "output_type": "execute_result"
    }
   ],
   "source": [
    "df = pd.read_csv('./config/log/Graph2.txt')\n",
    "mean, std = get_std(df, \" Quad.IMU.AX\")\n",
    "df"
   ]
  },
  {
   "cell_type": "code",
   "execution_count": null,
   "id": "acquired-synthesis",
   "metadata": {},
   "outputs": [],
   "source": []
  }
 ],
 "metadata": {
  "kernelspec": {
   "display_name": "Python 3",
   "language": "python",
   "name": "python3"
  },
  "language_info": {
   "codemirror_mode": {
    "name": "ipython",
    "version": 3
   },
   "file_extension": ".py",
   "mimetype": "text/x-python",
   "name": "python",
   "nbconvert_exporter": "python",
   "pygments_lexer": "ipython3",
   "version": "3.7.3"
  }
 },
 "nbformat": 4,
 "nbformat_minor": 5
}
